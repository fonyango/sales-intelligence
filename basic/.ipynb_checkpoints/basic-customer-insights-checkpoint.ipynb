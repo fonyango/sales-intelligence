{
 "cells": [
  {
   "cell_type": "code",
   "execution_count": 1,
   "id": "ced90f31",
   "metadata": {},
   "outputs": [],
   "source": [
    "import pandas as pd\n",
    "import statsmodels.api as sm\n",
    "import scipy.stats as stats\n",
    "from sklearn.cluster import KMeans\n",
    "import matplotlib.pyplot as plt\n",
    "import seaborn as sns\n",
    "from datetime import datetime, timedelta\n",
    "import matplotlib.ticker as mticker\n",
    "plt.style.use('ggplot') \n",
    "import warnings\n",
    "warnings.filterwarnings('ignore')\n",
    "\n",
    "pd.options.display.float_format = '{:.2f}'.format \n",
    "pd.options.display.max_columns=None\n",
    "pd.options.display.max_rows=None\n",
    "pd.set_option('display.max_colwidth', None)"
   ]
  },
  {
   "cell_type": "code",
   "execution_count": 2,
   "id": "1330839a",
   "metadata": {},
   "outputs": [
    {
     "ename": "FileNotFoundError",
     "evalue": "[Errno 2] No such file or directory: 'customer_shopping_data.csv'",
     "output_type": "error",
     "traceback": [
      "\u001b[0;31m---------------------------------------------------------------------------\u001b[0m",
      "\u001b[0;31mFileNotFoundError\u001b[0m                         Traceback (most recent call last)",
      "Cell \u001b[0;32mIn [2], line 3\u001b[0m\n\u001b[1;32m      1\u001b[0m \u001b[38;5;66;03m# Read the dataset\u001b[39;00m\n\u001b[0;32m----> 3\u001b[0m data \u001b[38;5;241m=\u001b[39m \u001b[43mpd\u001b[49m\u001b[38;5;241;43m.\u001b[39;49m\u001b[43mread_csv\u001b[49m\u001b[43m(\u001b[49m\u001b[38;5;124;43m'\u001b[39;49m\u001b[38;5;124;43mcustomer_shopping_data.csv\u001b[39;49m\u001b[38;5;124;43m'\u001b[39;49m\u001b[43m)\u001b[49m\n\u001b[1;32m      4\u001b[0m data\u001b[38;5;241m.\u001b[39mhead()\n",
      "File \u001b[0;32m~/.local/lib/python3.10/site-packages/pandas/util/_decorators.py:211\u001b[0m, in \u001b[0;36mdeprecate_kwarg.<locals>._deprecate_kwarg.<locals>.wrapper\u001b[0;34m(*args, **kwargs)\u001b[0m\n\u001b[1;32m    209\u001b[0m     \u001b[38;5;28;01melse\u001b[39;00m:\n\u001b[1;32m    210\u001b[0m         kwargs[new_arg_name] \u001b[38;5;241m=\u001b[39m new_arg_value\n\u001b[0;32m--> 211\u001b[0m \u001b[38;5;28;01mreturn\u001b[39;00m \u001b[43mfunc\u001b[49m\u001b[43m(\u001b[49m\u001b[38;5;241;43m*\u001b[39;49m\u001b[43margs\u001b[49m\u001b[43m,\u001b[49m\u001b[43m \u001b[49m\u001b[38;5;241;43m*\u001b[39;49m\u001b[38;5;241;43m*\u001b[39;49m\u001b[43mkwargs\u001b[49m\u001b[43m)\u001b[49m\n",
      "File \u001b[0;32m~/.local/lib/python3.10/site-packages/pandas/util/_decorators.py:331\u001b[0m, in \u001b[0;36mdeprecate_nonkeyword_arguments.<locals>.decorate.<locals>.wrapper\u001b[0;34m(*args, **kwargs)\u001b[0m\n\u001b[1;32m    325\u001b[0m \u001b[38;5;28;01mif\u001b[39;00m \u001b[38;5;28mlen\u001b[39m(args) \u001b[38;5;241m>\u001b[39m num_allow_args:\n\u001b[1;32m    326\u001b[0m     warnings\u001b[38;5;241m.\u001b[39mwarn(\n\u001b[1;32m    327\u001b[0m         msg\u001b[38;5;241m.\u001b[39mformat(arguments\u001b[38;5;241m=\u001b[39m_format_argument_list(allow_args)),\n\u001b[1;32m    328\u001b[0m         \u001b[38;5;167;01mFutureWarning\u001b[39;00m,\n\u001b[1;32m    329\u001b[0m         stacklevel\u001b[38;5;241m=\u001b[39mfind_stack_level(),\n\u001b[1;32m    330\u001b[0m     )\n\u001b[0;32m--> 331\u001b[0m \u001b[38;5;28;01mreturn\u001b[39;00m \u001b[43mfunc\u001b[49m\u001b[43m(\u001b[49m\u001b[38;5;241;43m*\u001b[39;49m\u001b[43margs\u001b[49m\u001b[43m,\u001b[49m\u001b[43m \u001b[49m\u001b[38;5;241;43m*\u001b[39;49m\u001b[38;5;241;43m*\u001b[39;49m\u001b[43mkwargs\u001b[49m\u001b[43m)\u001b[49m\n",
      "File \u001b[0;32m~/.local/lib/python3.10/site-packages/pandas/io/parsers/readers.py:950\u001b[0m, in \u001b[0;36mread_csv\u001b[0;34m(filepath_or_buffer, sep, delimiter, header, names, index_col, usecols, squeeze, prefix, mangle_dupe_cols, dtype, engine, converters, true_values, false_values, skipinitialspace, skiprows, skipfooter, nrows, na_values, keep_default_na, na_filter, verbose, skip_blank_lines, parse_dates, infer_datetime_format, keep_date_col, date_parser, dayfirst, cache_dates, iterator, chunksize, compression, thousands, decimal, lineterminator, quotechar, quoting, doublequote, escapechar, comment, encoding, encoding_errors, dialect, error_bad_lines, warn_bad_lines, on_bad_lines, delim_whitespace, low_memory, memory_map, float_precision, storage_options)\u001b[0m\n\u001b[1;32m    935\u001b[0m kwds_defaults \u001b[38;5;241m=\u001b[39m _refine_defaults_read(\n\u001b[1;32m    936\u001b[0m     dialect,\n\u001b[1;32m    937\u001b[0m     delimiter,\n\u001b[0;32m   (...)\u001b[0m\n\u001b[1;32m    946\u001b[0m     defaults\u001b[38;5;241m=\u001b[39m{\u001b[38;5;124m\"\u001b[39m\u001b[38;5;124mdelimiter\u001b[39m\u001b[38;5;124m\"\u001b[39m: \u001b[38;5;124m\"\u001b[39m\u001b[38;5;124m,\u001b[39m\u001b[38;5;124m\"\u001b[39m},\n\u001b[1;32m    947\u001b[0m )\n\u001b[1;32m    948\u001b[0m kwds\u001b[38;5;241m.\u001b[39mupdate(kwds_defaults)\n\u001b[0;32m--> 950\u001b[0m \u001b[38;5;28;01mreturn\u001b[39;00m \u001b[43m_read\u001b[49m\u001b[43m(\u001b[49m\u001b[43mfilepath_or_buffer\u001b[49m\u001b[43m,\u001b[49m\u001b[43m \u001b[49m\u001b[43mkwds\u001b[49m\u001b[43m)\u001b[49m\n",
      "File \u001b[0;32m~/.local/lib/python3.10/site-packages/pandas/io/parsers/readers.py:605\u001b[0m, in \u001b[0;36m_read\u001b[0;34m(filepath_or_buffer, kwds)\u001b[0m\n\u001b[1;32m    602\u001b[0m _validate_names(kwds\u001b[38;5;241m.\u001b[39mget(\u001b[38;5;124m\"\u001b[39m\u001b[38;5;124mnames\u001b[39m\u001b[38;5;124m\"\u001b[39m, \u001b[38;5;28;01mNone\u001b[39;00m))\n\u001b[1;32m    604\u001b[0m \u001b[38;5;66;03m# Create the parser.\u001b[39;00m\n\u001b[0;32m--> 605\u001b[0m parser \u001b[38;5;241m=\u001b[39m \u001b[43mTextFileReader\u001b[49m\u001b[43m(\u001b[49m\u001b[43mfilepath_or_buffer\u001b[49m\u001b[43m,\u001b[49m\u001b[43m \u001b[49m\u001b[38;5;241;43m*\u001b[39;49m\u001b[38;5;241;43m*\u001b[39;49m\u001b[43mkwds\u001b[49m\u001b[43m)\u001b[49m\n\u001b[1;32m    607\u001b[0m \u001b[38;5;28;01mif\u001b[39;00m chunksize \u001b[38;5;129;01mor\u001b[39;00m iterator:\n\u001b[1;32m    608\u001b[0m     \u001b[38;5;28;01mreturn\u001b[39;00m parser\n",
      "File \u001b[0;32m~/.local/lib/python3.10/site-packages/pandas/io/parsers/readers.py:1442\u001b[0m, in \u001b[0;36mTextFileReader.__init__\u001b[0;34m(self, f, engine, **kwds)\u001b[0m\n\u001b[1;32m   1439\u001b[0m     \u001b[38;5;28mself\u001b[39m\u001b[38;5;241m.\u001b[39moptions[\u001b[38;5;124m\"\u001b[39m\u001b[38;5;124mhas_index_names\u001b[39m\u001b[38;5;124m\"\u001b[39m] \u001b[38;5;241m=\u001b[39m kwds[\u001b[38;5;124m\"\u001b[39m\u001b[38;5;124mhas_index_names\u001b[39m\u001b[38;5;124m\"\u001b[39m]\n\u001b[1;32m   1441\u001b[0m \u001b[38;5;28mself\u001b[39m\u001b[38;5;241m.\u001b[39mhandles: IOHandles \u001b[38;5;241m|\u001b[39m \u001b[38;5;28;01mNone\u001b[39;00m \u001b[38;5;241m=\u001b[39m \u001b[38;5;28;01mNone\u001b[39;00m\n\u001b[0;32m-> 1442\u001b[0m \u001b[38;5;28mself\u001b[39m\u001b[38;5;241m.\u001b[39m_engine \u001b[38;5;241m=\u001b[39m \u001b[38;5;28;43mself\u001b[39;49m\u001b[38;5;241;43m.\u001b[39;49m\u001b[43m_make_engine\u001b[49m\u001b[43m(\u001b[49m\u001b[43mf\u001b[49m\u001b[43m,\u001b[49m\u001b[43m \u001b[49m\u001b[38;5;28;43mself\u001b[39;49m\u001b[38;5;241;43m.\u001b[39;49m\u001b[43mengine\u001b[49m\u001b[43m)\u001b[49m\n",
      "File \u001b[0;32m~/.local/lib/python3.10/site-packages/pandas/io/parsers/readers.py:1735\u001b[0m, in \u001b[0;36mTextFileReader._make_engine\u001b[0;34m(self, f, engine)\u001b[0m\n\u001b[1;32m   1733\u001b[0m     \u001b[38;5;28;01mif\u001b[39;00m \u001b[38;5;124m\"\u001b[39m\u001b[38;5;124mb\u001b[39m\u001b[38;5;124m\"\u001b[39m \u001b[38;5;129;01mnot\u001b[39;00m \u001b[38;5;129;01min\u001b[39;00m mode:\n\u001b[1;32m   1734\u001b[0m         mode \u001b[38;5;241m+\u001b[39m\u001b[38;5;241m=\u001b[39m \u001b[38;5;124m\"\u001b[39m\u001b[38;5;124mb\u001b[39m\u001b[38;5;124m\"\u001b[39m\n\u001b[0;32m-> 1735\u001b[0m \u001b[38;5;28mself\u001b[39m\u001b[38;5;241m.\u001b[39mhandles \u001b[38;5;241m=\u001b[39m \u001b[43mget_handle\u001b[49m\u001b[43m(\u001b[49m\n\u001b[1;32m   1736\u001b[0m \u001b[43m    \u001b[49m\u001b[43mf\u001b[49m\u001b[43m,\u001b[49m\n\u001b[1;32m   1737\u001b[0m \u001b[43m    \u001b[49m\u001b[43mmode\u001b[49m\u001b[43m,\u001b[49m\n\u001b[1;32m   1738\u001b[0m \u001b[43m    \u001b[49m\u001b[43mencoding\u001b[49m\u001b[38;5;241;43m=\u001b[39;49m\u001b[38;5;28;43mself\u001b[39;49m\u001b[38;5;241;43m.\u001b[39;49m\u001b[43moptions\u001b[49m\u001b[38;5;241;43m.\u001b[39;49m\u001b[43mget\u001b[49m\u001b[43m(\u001b[49m\u001b[38;5;124;43m\"\u001b[39;49m\u001b[38;5;124;43mencoding\u001b[39;49m\u001b[38;5;124;43m\"\u001b[39;49m\u001b[43m,\u001b[49m\u001b[43m \u001b[49m\u001b[38;5;28;43;01mNone\u001b[39;49;00m\u001b[43m)\u001b[49m\u001b[43m,\u001b[49m\n\u001b[1;32m   1739\u001b[0m \u001b[43m    \u001b[49m\u001b[43mcompression\u001b[49m\u001b[38;5;241;43m=\u001b[39;49m\u001b[38;5;28;43mself\u001b[39;49m\u001b[38;5;241;43m.\u001b[39;49m\u001b[43moptions\u001b[49m\u001b[38;5;241;43m.\u001b[39;49m\u001b[43mget\u001b[49m\u001b[43m(\u001b[49m\u001b[38;5;124;43m\"\u001b[39;49m\u001b[38;5;124;43mcompression\u001b[39;49m\u001b[38;5;124;43m\"\u001b[39;49m\u001b[43m,\u001b[49m\u001b[43m \u001b[49m\u001b[38;5;28;43;01mNone\u001b[39;49;00m\u001b[43m)\u001b[49m\u001b[43m,\u001b[49m\n\u001b[1;32m   1740\u001b[0m \u001b[43m    \u001b[49m\u001b[43mmemory_map\u001b[49m\u001b[38;5;241;43m=\u001b[39;49m\u001b[38;5;28;43mself\u001b[39;49m\u001b[38;5;241;43m.\u001b[39;49m\u001b[43moptions\u001b[49m\u001b[38;5;241;43m.\u001b[39;49m\u001b[43mget\u001b[49m\u001b[43m(\u001b[49m\u001b[38;5;124;43m\"\u001b[39;49m\u001b[38;5;124;43mmemory_map\u001b[39;49m\u001b[38;5;124;43m\"\u001b[39;49m\u001b[43m,\u001b[49m\u001b[43m \u001b[49m\u001b[38;5;28;43;01mFalse\u001b[39;49;00m\u001b[43m)\u001b[49m\u001b[43m,\u001b[49m\n\u001b[1;32m   1741\u001b[0m \u001b[43m    \u001b[49m\u001b[43mis_text\u001b[49m\u001b[38;5;241;43m=\u001b[39;49m\u001b[43mis_text\u001b[49m\u001b[43m,\u001b[49m\n\u001b[1;32m   1742\u001b[0m \u001b[43m    \u001b[49m\u001b[43merrors\u001b[49m\u001b[38;5;241;43m=\u001b[39;49m\u001b[38;5;28;43mself\u001b[39;49m\u001b[38;5;241;43m.\u001b[39;49m\u001b[43moptions\u001b[49m\u001b[38;5;241;43m.\u001b[39;49m\u001b[43mget\u001b[49m\u001b[43m(\u001b[49m\u001b[38;5;124;43m\"\u001b[39;49m\u001b[38;5;124;43mencoding_errors\u001b[39;49m\u001b[38;5;124;43m\"\u001b[39;49m\u001b[43m,\u001b[49m\u001b[43m \u001b[49m\u001b[38;5;124;43m\"\u001b[39;49m\u001b[38;5;124;43mstrict\u001b[39;49m\u001b[38;5;124;43m\"\u001b[39;49m\u001b[43m)\u001b[49m\u001b[43m,\u001b[49m\n\u001b[1;32m   1743\u001b[0m \u001b[43m    \u001b[49m\u001b[43mstorage_options\u001b[49m\u001b[38;5;241;43m=\u001b[39;49m\u001b[38;5;28;43mself\u001b[39;49m\u001b[38;5;241;43m.\u001b[39;49m\u001b[43moptions\u001b[49m\u001b[38;5;241;43m.\u001b[39;49m\u001b[43mget\u001b[49m\u001b[43m(\u001b[49m\u001b[38;5;124;43m\"\u001b[39;49m\u001b[38;5;124;43mstorage_options\u001b[39;49m\u001b[38;5;124;43m\"\u001b[39;49m\u001b[43m,\u001b[49m\u001b[43m \u001b[49m\u001b[38;5;28;43;01mNone\u001b[39;49;00m\u001b[43m)\u001b[49m\u001b[43m,\u001b[49m\n\u001b[1;32m   1744\u001b[0m \u001b[43m\u001b[49m\u001b[43m)\u001b[49m\n\u001b[1;32m   1745\u001b[0m \u001b[38;5;28;01massert\u001b[39;00m \u001b[38;5;28mself\u001b[39m\u001b[38;5;241m.\u001b[39mhandles \u001b[38;5;129;01mis\u001b[39;00m \u001b[38;5;129;01mnot\u001b[39;00m \u001b[38;5;28;01mNone\u001b[39;00m\n\u001b[1;32m   1746\u001b[0m f \u001b[38;5;241m=\u001b[39m \u001b[38;5;28mself\u001b[39m\u001b[38;5;241m.\u001b[39mhandles\u001b[38;5;241m.\u001b[39mhandle\n",
      "File \u001b[0;32m~/.local/lib/python3.10/site-packages/pandas/io/common.py:856\u001b[0m, in \u001b[0;36mget_handle\u001b[0;34m(path_or_buf, mode, encoding, compression, memory_map, is_text, errors, storage_options)\u001b[0m\n\u001b[1;32m    851\u001b[0m \u001b[38;5;28;01melif\u001b[39;00m \u001b[38;5;28misinstance\u001b[39m(handle, \u001b[38;5;28mstr\u001b[39m):\n\u001b[1;32m    852\u001b[0m     \u001b[38;5;66;03m# Check whether the filename is to be opened in binary mode.\u001b[39;00m\n\u001b[1;32m    853\u001b[0m     \u001b[38;5;66;03m# Binary mode does not support 'encoding' and 'newline'.\u001b[39;00m\n\u001b[1;32m    854\u001b[0m     \u001b[38;5;28;01mif\u001b[39;00m ioargs\u001b[38;5;241m.\u001b[39mencoding \u001b[38;5;129;01mand\u001b[39;00m \u001b[38;5;124m\"\u001b[39m\u001b[38;5;124mb\u001b[39m\u001b[38;5;124m\"\u001b[39m \u001b[38;5;129;01mnot\u001b[39;00m \u001b[38;5;129;01min\u001b[39;00m ioargs\u001b[38;5;241m.\u001b[39mmode:\n\u001b[1;32m    855\u001b[0m         \u001b[38;5;66;03m# Encoding\u001b[39;00m\n\u001b[0;32m--> 856\u001b[0m         handle \u001b[38;5;241m=\u001b[39m \u001b[38;5;28;43mopen\u001b[39;49m\u001b[43m(\u001b[49m\n\u001b[1;32m    857\u001b[0m \u001b[43m            \u001b[49m\u001b[43mhandle\u001b[49m\u001b[43m,\u001b[49m\n\u001b[1;32m    858\u001b[0m \u001b[43m            \u001b[49m\u001b[43mioargs\u001b[49m\u001b[38;5;241;43m.\u001b[39;49m\u001b[43mmode\u001b[49m\u001b[43m,\u001b[49m\n\u001b[1;32m    859\u001b[0m \u001b[43m            \u001b[49m\u001b[43mencoding\u001b[49m\u001b[38;5;241;43m=\u001b[39;49m\u001b[43mioargs\u001b[49m\u001b[38;5;241;43m.\u001b[39;49m\u001b[43mencoding\u001b[49m\u001b[43m,\u001b[49m\n\u001b[1;32m    860\u001b[0m \u001b[43m            \u001b[49m\u001b[43merrors\u001b[49m\u001b[38;5;241;43m=\u001b[39;49m\u001b[43merrors\u001b[49m\u001b[43m,\u001b[49m\n\u001b[1;32m    861\u001b[0m \u001b[43m            \u001b[49m\u001b[43mnewline\u001b[49m\u001b[38;5;241;43m=\u001b[39;49m\u001b[38;5;124;43m\"\u001b[39;49m\u001b[38;5;124;43m\"\u001b[39;49m\u001b[43m,\u001b[49m\n\u001b[1;32m    862\u001b[0m \u001b[43m        \u001b[49m\u001b[43m)\u001b[49m\n\u001b[1;32m    863\u001b[0m     \u001b[38;5;28;01melse\u001b[39;00m:\n\u001b[1;32m    864\u001b[0m         \u001b[38;5;66;03m# Binary mode\u001b[39;00m\n\u001b[1;32m    865\u001b[0m         handle \u001b[38;5;241m=\u001b[39m \u001b[38;5;28mopen\u001b[39m(handle, ioargs\u001b[38;5;241m.\u001b[39mmode)\n",
      "\u001b[0;31mFileNotFoundError\u001b[0m: [Errno 2] No such file or directory: 'customer_shopping_data.csv'"
     ]
    }
   ],
   "source": [
    "# Read the dataset\n",
    "\n",
    "data = pd.read_csv('customer_shopping_data.csv')\n",
    "data.head()"
   ]
  },
  {
   "cell_type": "code",
   "execution_count": null,
   "id": "0bae82d8",
   "metadata": {},
   "outputs": [],
   "source": [
    "data['invoice_date'] = pd.to_datetime(data['invoice_date'])\n",
    "data['invoice_year'] = data['invoice_date'].dt.year\n",
    "data['invoice_month'] = data['invoice_date'].dt.strftime('%B')\n",
    "data['total_revenue'] = data['quantity'] * data['price']\n",
    "data.head()"
   ]
  },
  {
   "cell_type": "markdown",
   "id": "b9ba311c",
   "metadata": {},
   "source": [
    "### What is the age distribution of male and female customers?"
   ]
  },
  {
   "cell_type": "code",
   "execution_count": null,
   "id": "2d25b7a4",
   "metadata": {},
   "outputs": [],
   "source": [
    "# Separate data into male and female groups\n",
    "male_data = data[data['gender'] == 'Male']\n",
    "female_data = data[data['gender'] == 'Female']\n",
    "\n",
    "# Plot histograms for male and female age distributions\n",
    "plt.figure(figsize=(12, 5))  # Adjust the figure size if needed\n",
    "\n",
    "plt.subplot(1, 2, 1)\n",
    "plt.hist(male_data['age'], bins=20, edgecolor='black', alpha=0.7)\n",
    "plt.title('Age Distribution of Male Customers')\n",
    "plt.xlabel('Age')\n",
    "plt.ylabel('Frequency')\n",
    "\n",
    "plt.subplot(1, 2, 2)\n",
    "plt.hist(female_data['age'], bins=20, edgecolor='black', alpha=0.7)\n",
    "plt.title('Age Distribution of Female Customers')\n",
    "plt.xlabel('Age')\n",
    "plt.ylabel('Frequency')\n",
    "\n",
    "plt.tight_layout()  # To prevent overlapping of subplots\n",
    "plt.show()"
   ]
  },
  {
   "cell_type": "code",
   "execution_count": null,
   "id": "6af92c61",
   "metadata": {},
   "outputs": [],
   "source": [
    "# Check if there is significant difference between age of male and female customers\n",
    "\n",
    "# Hypothesis\n",
    "H0 = \"There is a significant age difference between male and female customers.\"\n",
    "H1 = \"There is no significant age difference between male and female customers.\"\n",
    "# Separate data into male and female groups\n",
    "male_data = data[data['gender'] == 'Male']['age']\n",
    "female_data = data[data['gender'] == 'Female']['age']\n",
    "\n",
    "# Perform independent t-test\n",
    "t_statistic, p_value = stats.ttest_ind(male_data, female_data, equal_var=False)\n",
    "\n",
    "# Set significance level\n",
    "alpha = 0.05\n",
    "\n",
    "# Check if the p-value is less than the significance level\n",
    "if p_value < alpha:\n",
    "    print(H0)\n",
    "else:\n",
    "    print(H1)"
   ]
  },
  {
   "cell_type": "markdown",
   "id": "89ebf7e8",
   "metadata": {},
   "source": [
    "### Are there more male or female customers in each age group?"
   ]
  },
  {
   "cell_type": "code",
   "execution_count": null,
   "id": "d4ce989f",
   "metadata": {},
   "outputs": [],
   "source": [
    "# Group data by 'age' and 'gender', and count the number of customers in each group\n",
    "age_gender_counts = data.groupby(['age', 'gender']).size().unstack()\n",
    "\n",
    "# Plot stacked bar plot\n",
    "age_gender_counts.plot(kind='bar', stacked=True, figsize=(12, 5))\n",
    "plt.title('Number of Male and Female Customers in Each Age Group')\n",
    "plt.xlabel('Age Group')\n",
    "plt.ylabel('Number of Customers')\n",
    "plt.legend(title='Gender')\n",
    "plt.xticks(rotation=45)  # Rotate x-axis labels for better readability\n",
    "plt.tight_layout()\n",
    "plt.show()"
   ]
  },
  {
   "cell_type": "markdown",
   "id": "1cbd0051",
   "metadata": {},
   "source": [
    "### How many new customers were acquired in the last quarter?"
   ]
  },
  {
   "cell_type": "code",
   "execution_count": null,
   "id": "03aceeb8",
   "metadata": {},
   "outputs": [],
   "source": [
    "# Calculate the start and end dates of the last quarter\n",
    "end_date = datetime(2023, 6, 30)\n",
    "start_date = end_date - timedelta(days=90)\n",
    "\n",
    "# Identify customers who made their first purchase within the last quarter\n",
    "first_purchase_dates = data.groupby('customer_id')['invoice_date'].min()\n",
    "new_customers_last_quarter = first_purchase_dates[\n",
    "    (first_purchase_dates >= start_date) & (first_purchase_dates <= end_date)]\n",
    "\n",
    "\n",
    "print(\"Number of new customers acquired in the last quarter:\", len(new_customers_last_quarter))"
   ]
  },
  {
   "cell_type": "markdown",
   "id": "e7f25566",
   "metadata": {},
   "source": [
    "### What is the average age of customers who make high-value purchases?"
   ]
  },
  {
   "cell_type": "code",
   "execution_count": null,
   "id": "fc931e1d",
   "metadata": {},
   "outputs": [],
   "source": [
    "# Define a threshold for high-value purchases\n",
    "high_value_threshold = 2000  # Adjust this threshold as needed\n",
    "\n",
    "# Filter data for high-value purchases\n",
    "high_value_customers = data[data['total_revenue'] >= high_value_threshold]\n",
    "\n",
    "# Calculate the average age of customers making high-value purchases\n",
    "average_age_high_value = high_value_customers['age'].mean()\n",
    "\n",
    "print(\"Average age of customers making high-value purchases:\", average_age_high_value)"
   ]
  },
  {
   "cell_type": "code",
   "execution_count": null,
   "id": "d887c133",
   "metadata": {},
   "outputs": [],
   "source": [
    "\n",
    "# Calculate total sales for each customer\n",
    "data['total_revenue'] = data['quantity'] * data['price']\n",
    "customer_total_sales = data.groupby('customer_id')['total_revenue'].sum()\n",
    "\n",
    "# Divide customers into quartiles based on total sales\n",
    "quartile_labels = ['Q1', 'Q2', 'Q3', 'Q4']\n",
    "customer_total_sales_df = pd.DataFrame(customer_total_sales)\n",
    "customer_total_sales_df['quartile'] = pd.qcut(customer_total_sales_df['total_revenue'], q=4, labels=quartile_labels)\n",
    "\n",
    "# Merge customer ages with their corresponding quartile\n",
    "customer_ages = data[['customer_id', 'age']].drop_duplicates()\n",
    "customer_quartiles = customer_total_sales_df.merge(customer_ages, left_index=True, right_on='customer_id')\n",
    "\n",
    "# Calculate the mean age for each quartile\n",
    "mean_age_per_quartile = customer_quartiles.groupby('quartile')['age'].mean()\n",
    "\n",
    "print(\"Mean age of customers for each quartile of total sales:\")\n",
    "print(mean_age_per_quartile)"
   ]
  },
  {
   "cell_type": "markdown",
   "id": "ba362d51",
   "metadata": {},
   "source": [
    "### What is the average spending of customers aged 30-40?"
   ]
  },
  {
   "cell_type": "code",
   "execution_count": null,
   "id": "c6f0c6ff",
   "metadata": {},
   "outputs": [],
   "source": [
    "# Filter data for customers aged 30-40\n",
    "customers_age_30_40 = data[(data['age'] >= 30) & (data['age'] <= 40)]\n",
    "\n",
    "# Calculate average spending for customers aged 30-40\n",
    "average_spending_30_40 = customers_age_30_40['total_revenue'].mean()\n",
    "\n",
    "print(\"Average spending of customers aged 30-40:\", average_spending_30_40)"
   ]
  },
  {
   "cell_type": "markdown",
   "id": "9c629ed0",
   "metadata": {},
   "source": [
    "### Can you identify any correlations between customer age and payment methods?"
   ]
  },
  {
   "cell_type": "code",
   "execution_count": null,
   "id": "97867cde",
   "metadata": {},
   "outputs": [],
   "source": [
    "# Convert payment_method into one-hot encoded columns\n",
    "payment_methods_encoded = pd.get_dummies(data['payment_method'], prefix='payment')\n",
    "\n",
    "# Concatenate the one-hot encoded columns with the original data\n",
    "data_with_encoded_payment = pd.concat([data, payment_methods_encoded], axis=1)\n",
    "\n",
    "# Calculate the correlation matrix\n",
    "correlation_matrix = data_with_encoded_payment[['age', 'payment_Credit Card', 'payment_Debit Card', 'payment_Cash']].corr()\n",
    "\n",
    "# Extract the correlation between age and payment methods\n",
    "correlation_age_payment = correlation_matrix['age'][1:]\n",
    "\n",
    "print(\"Correlation between customer age and payment methods:\")\n",
    "print(correlation_age_payment)"
   ]
  },
  {
   "cell_type": "markdown",
   "id": "cf2aaed7",
   "metadata": {},
   "source": [
    "### Who are the top 10 customers in terms of lifetime spending?"
   ]
  },
  {
   "cell_type": "code",
   "execution_count": null,
   "id": "b29ac207",
   "metadata": {},
   "outputs": [],
   "source": [
    "# Calculate total spending for each customer\n",
    "customer_total_spending = data.groupby('customer_id')['total_revenue'].sum()\n",
    "\n",
    "# Sort customers based on total spending and get the top 10\n",
    "top_10_customers = customer_total_spending.sort_values(ascending=False).head(10)\n",
    "\n",
    "print(\"Top 10 customers in terms of lifetime spending:\")\n",
    "print(top_10_customers)"
   ]
  },
  {
   "cell_type": "markdown",
   "id": "9b18ee72",
   "metadata": {},
   "source": [
    "### What is the average spending of customers who shop in specific shopping malls?"
   ]
  },
  {
   "cell_type": "code",
   "execution_count": null,
   "id": "624d979f",
   "metadata": {},
   "outputs": [],
   "source": [
    "# Choose the specific shopping mall(s) you're interested in\n",
    "specific_malls = data['shopping_mall'].to_list()  # Replace with the desired shopping malls\n",
    "\n",
    "# Filter data for customers who shop in the specific malls\n",
    "customers_in_specific_malls = data[data['shopping_mall'].isin(specific_malls)]\n",
    "\n",
    "# Calculate average spending for customers in the specific malls\n",
    "average_spending_specific_malls = customers_in_specific_malls.groupby('shopping_mall')['total_revenue'].mean()\n",
    "\n",
    "print(\"Average spending of customers in specific shopping malls:\")\n",
    "print(average_spending_specific_malls)"
   ]
  },
  {
   "cell_type": "markdown",
   "id": "c2ff3cce",
   "metadata": {},
   "source": [
    "### Are there any noticeable patterns in the distribution of customer ages across shopping malls?"
   ]
  },
  {
   "cell_type": "code",
   "execution_count": null,
   "id": "75320ef8",
   "metadata": {},
   "outputs": [],
   "source": [
    "# Create box/violin plots to visualize age distribution across shopping malls\n",
    "plt.figure(figsize=(12, 5))  # Adjust figure size if needed\n",
    "\n",
    "sns.boxplot(x='shopping_mall', y='age', data=data)\n",
    "plt.title('Age Distribution Across Shopping Malls')\n",
    "plt.xlabel('Shopping Mall')\n",
    "plt.ylabel('Age')\n",
    "plt.xticks(rotation=45)  # Rotate x-axis labels for better readability\n",
    "\n",
    "plt.tight_layout()\n",
    "plt.show()"
   ]
  },
  {
   "cell_type": "markdown",
   "id": "b92d2f41",
   "metadata": {},
   "source": [
    "### How has the customer base grown or shifted over the past year?"
   ]
  },
  {
   "cell_type": "code",
   "execution_count": null,
   "id": "1c2f4a6d",
   "metadata": {},
   "outputs": [],
   "source": [
    "\n",
    "# Calculate the start and end dates of the past year\n",
    "end_date = pd.to_datetime('2023-08-10')\n",
    "start_date = end_date - pd.DateOffset(years=1)\n",
    "\n",
    "# Filter data for the past year\n",
    "past_year_data = data[(data['invoice_date'] >= start_date) & (data['invoice_date'] <= end_date)]\n",
    "\n",
    "# Group data by 'invoice_month' and 'customer_id'\n",
    "monthly_customer_counts = past_year_data.groupby(['invoice_month', 'customer_id']).size().reset_index(name='count')\n",
    "\n",
    "# Calculate new and returning customers for each month\n",
    "customer_acquisition = monthly_customer_counts.groupby('invoice_month')['customer_id'].nunique()\n",
    "customer_retention = monthly_customer_counts.groupby('invoice_month').apply(lambda x: (x['count'] > 1).sum())\n",
    "\n",
    "# Calculate total customers in each month (new + returning)\n",
    "total_customers = customer_acquisition + customer_retention\n",
    "\n",
    "# Plot the growth/shift of the customer base over the past year\n",
    "plt.figure(figsize=(12, 5))  # Adjust figure size if needed\n",
    "\n",
    "customer_acquisition.plot(label='New Customers')\n",
    "customer_retention.plot(label='Returning Customers')\n",
    "total_customers.plot(label='Total Customers')\n",
    "\n",
    "plt.title('Customer Base Growth/Shift Over the Past Year')\n",
    "plt.xlabel('Month')\n",
    "plt.ylabel('Number of Customers')\n",
    "plt.legend()\n",
    "plt.xticks(rotation=45)  # Rotate x-axis labels for better readability\n",
    "\n",
    "plt.tight_layout()\n",
    "plt.show()"
   ]
  },
  {
   "cell_type": "code",
   "execution_count": null,
   "id": "53500a6f",
   "metadata": {},
   "outputs": [],
   "source": [
    "# Select relevant features for clustering (e.g., total spending and frequency)\n",
    "features = ['total_revenue', 'quantity']  # Add other relevant columns\n",
    "\n",
    "# Prepare the data for clustering\n",
    "X = data[features]\n",
    "\n",
    "# Choose the number of clusters (you can adjust this based on your data and business insights)\n",
    "num_clusters = 4\n",
    "\n",
    "# Apply K-means clustering\n",
    "kmeans = KMeans(n_clusters=num_clusters, random_state=42)\n",
    "data['cluster'] = kmeans.fit_predict(X)\n",
    "\n",
    "# Analyze the clusters and their characteristics\n",
    "cluster_means = data.groupby('cluster')[features].mean()\n",
    "\n",
    "# Print cluster characteristics\n",
    "print(\"Cluster Characteristics:\")\n",
    "print(cluster_means)\n",
    "\n",
    "# Visualize the clusters\n",
    "plt.figure(figsize=(10, 6))\n",
    "for cluster in range(num_clusters):\n",
    "    plt.scatter(\n",
    "        data[data['cluster'] == cluster]['total_revenue'],\n",
    "        data[data['cluster'] == cluster]['quantity'],\n",
    "        label=f'Cluster {cluster}'\n",
    "    )\n",
    "plt.title('Customer Segmentation based on Spending Behavior')\n",
    "plt.xlabel('Total Revenue')\n",
    "plt.ylabel('Frequency')\n",
    "plt.legend()\n",
    "plt.show()"
   ]
  },
  {
   "cell_type": "code",
   "execution_count": null,
   "id": "5e2893d9",
   "metadata": {},
   "outputs": [],
   "source": []
  }
 ],
 "metadata": {
  "kernelspec": {
   "display_name": "Python 3 (ipykernel)",
   "language": "python",
   "name": "python3"
  },
  "language_info": {
   "codemirror_mode": {
    "name": "ipython",
    "version": 3
   },
   "file_extension": ".py",
   "mimetype": "text/x-python",
   "name": "python",
   "nbconvert_exporter": "python",
   "pygments_lexer": "ipython3",
   "version": "3.10.12"
  }
 },
 "nbformat": 4,
 "nbformat_minor": 5
}
