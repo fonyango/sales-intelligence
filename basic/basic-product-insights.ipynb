{
 "cells": [
  {
   "cell_type": "markdown",
   "id": "50a9cc63",
   "metadata": {},
   "source": [
    "## Product Sales Analytics"
   ]
  },
  {
   "cell_type": "markdown",
   "id": "98d8693d",
   "metadata": {},
   "source": [
    "This analysis provides insights into the product categories."
   ]
  },
  {
   "cell_type": "code",
   "execution_count": 1,
   "id": "178fc66b",
   "metadata": {},
   "outputs": [],
   "source": [
    "# Required Libraries\n",
    "import pandas as pd\n",
    "import numpy as np\n",
    "import statsmodels.api as sm\n",
    "import scipy.stats as stats\n",
    "from sklearn.cluster import KMeans\n",
    "import matplotlib.pyplot as plt\n",
    "import seaborn as sns\n",
    "from datetime import datetime, timedelta\n",
    "import matplotlib.ticker as mticker\n",
    "plt.style.use('ggplot') \n",
    "\n",
    "# Supress warnings\n",
    "import warnings\n",
    "warnings.filterwarnings('ignore')\n",
    "\n",
    "# Display settings\n",
    "pd.options.display.float_format = '{:.2f}'.format \n",
    "pd.options.display.max_columns=None\n",
    "pd.options.display.max_rows=None\n",
    "pd.set_option('display.max_colwidth', None)"
   ]
  },
  {
   "cell_type": "code",
   "execution_count": 2,
   "id": "2dfacca8",
   "metadata": {},
   "outputs": [
    {
     "data": {
      "text/html": [
       "<div>\n",
       "<style scoped>\n",
       "    .dataframe tbody tr th:only-of-type {\n",
       "        vertical-align: middle;\n",
       "    }\n",
       "\n",
       "    .dataframe tbody tr th {\n",
       "        vertical-align: top;\n",
       "    }\n",
       "\n",
       "    .dataframe thead th {\n",
       "        text-align: right;\n",
       "    }\n",
       "</style>\n",
       "<table border=\"1\" class=\"dataframe\">\n",
       "  <thead>\n",
       "    <tr style=\"text-align: right;\">\n",
       "      <th></th>\n",
       "      <th>invoice_no</th>\n",
       "      <th>customer_id</th>\n",
       "      <th>gender</th>\n",
       "      <th>age</th>\n",
       "      <th>category</th>\n",
       "      <th>quantity</th>\n",
       "      <th>price</th>\n",
       "      <th>payment_method</th>\n",
       "      <th>invoice_date</th>\n",
       "      <th>shopping_mall</th>\n",
       "    </tr>\n",
       "  </thead>\n",
       "  <tbody>\n",
       "    <tr>\n",
       "      <th>0</th>\n",
       "      <td>I138884</td>\n",
       "      <td>C241288</td>\n",
       "      <td>Female</td>\n",
       "      <td>28</td>\n",
       "      <td>Clothing</td>\n",
       "      <td>5</td>\n",
       "      <td>1500.40</td>\n",
       "      <td>Credit Card</td>\n",
       "      <td>5/8/2022</td>\n",
       "      <td>Kanyon</td>\n",
       "    </tr>\n",
       "    <tr>\n",
       "      <th>1</th>\n",
       "      <td>I317333</td>\n",
       "      <td>C111565</td>\n",
       "      <td>Male</td>\n",
       "      <td>21</td>\n",
       "      <td>Shoes</td>\n",
       "      <td>3</td>\n",
       "      <td>1800.51</td>\n",
       "      <td>Debit Card</td>\n",
       "      <td>12/12/2021</td>\n",
       "      <td>Forum Istanbul</td>\n",
       "    </tr>\n",
       "    <tr>\n",
       "      <th>2</th>\n",
       "      <td>I127801</td>\n",
       "      <td>C266599</td>\n",
       "      <td>Male</td>\n",
       "      <td>20</td>\n",
       "      <td>Clothing</td>\n",
       "      <td>1</td>\n",
       "      <td>300.08</td>\n",
       "      <td>Cash</td>\n",
       "      <td>9/11/2021</td>\n",
       "      <td>Metrocity</td>\n",
       "    </tr>\n",
       "    <tr>\n",
       "      <th>3</th>\n",
       "      <td>I173702</td>\n",
       "      <td>C988172</td>\n",
       "      <td>Female</td>\n",
       "      <td>66</td>\n",
       "      <td>Shoes</td>\n",
       "      <td>5</td>\n",
       "      <td>3000.85</td>\n",
       "      <td>Credit Card</td>\n",
       "      <td>16/05/2021</td>\n",
       "      <td>Metropol AVM</td>\n",
       "    </tr>\n",
       "    <tr>\n",
       "      <th>4</th>\n",
       "      <td>I337046</td>\n",
       "      <td>C189076</td>\n",
       "      <td>Female</td>\n",
       "      <td>53</td>\n",
       "      <td>Books</td>\n",
       "      <td>4</td>\n",
       "      <td>60.60</td>\n",
       "      <td>Cash</td>\n",
       "      <td>24/10/2021</td>\n",
       "      <td>Kanyon</td>\n",
       "    </tr>\n",
       "  </tbody>\n",
       "</table>\n",
       "</div>"
      ],
      "text/plain": [
       "  invoice_no customer_id  gender  age  category  quantity   price  \\\n",
       "0    I138884     C241288  Female   28  Clothing         5 1500.40   \n",
       "1    I317333     C111565    Male   21     Shoes         3 1800.51   \n",
       "2    I127801     C266599    Male   20  Clothing         1  300.08   \n",
       "3    I173702     C988172  Female   66     Shoes         5 3000.85   \n",
       "4    I337046     C189076  Female   53     Books         4   60.60   \n",
       "\n",
       "  payment_method invoice_date   shopping_mall  \n",
       "0    Credit Card     5/8/2022          Kanyon  \n",
       "1     Debit Card   12/12/2021  Forum Istanbul  \n",
       "2           Cash    9/11/2021       Metrocity  \n",
       "3    Credit Card   16/05/2021    Metropol AVM  \n",
       "4           Cash   24/10/2021          Kanyon  "
      ]
     },
     "execution_count": 2,
     "metadata": {},
     "output_type": "execute_result"
    }
   ],
   "source": [
    "# Read the dataset\n",
    "\n",
    "data = pd.read_csv('../customer_shopping_data.csv')\n",
    "data.head()"
   ]
  },
  {
   "cell_type": "code",
   "execution_count": 3,
   "id": "dec84f1b",
   "metadata": {},
   "outputs": [
    {
     "data": {
      "text/html": [
       "<div>\n",
       "<style scoped>\n",
       "    .dataframe tbody tr th:only-of-type {\n",
       "        vertical-align: middle;\n",
       "    }\n",
       "\n",
       "    .dataframe tbody tr th {\n",
       "        vertical-align: top;\n",
       "    }\n",
       "\n",
       "    .dataframe thead th {\n",
       "        text-align: right;\n",
       "    }\n",
       "</style>\n",
       "<table border=\"1\" class=\"dataframe\">\n",
       "  <thead>\n",
       "    <tr style=\"text-align: right;\">\n",
       "      <th></th>\n",
       "      <th>invoice_no</th>\n",
       "      <th>customer_id</th>\n",
       "      <th>gender</th>\n",
       "      <th>age</th>\n",
       "      <th>category</th>\n",
       "      <th>quantity</th>\n",
       "      <th>price</th>\n",
       "      <th>payment_method</th>\n",
       "      <th>invoice_date</th>\n",
       "      <th>shopping_mall</th>\n",
       "      <th>invoice_year</th>\n",
       "      <th>invoice_month</th>\n",
       "      <th>total_revenue</th>\n",
       "    </tr>\n",
       "  </thead>\n",
       "  <tbody>\n",
       "    <tr>\n",
       "      <th>0</th>\n",
       "      <td>I138884</td>\n",
       "      <td>C241288</td>\n",
       "      <td>Female</td>\n",
       "      <td>28</td>\n",
       "      <td>Clothing</td>\n",
       "      <td>5</td>\n",
       "      <td>1500.40</td>\n",
       "      <td>Credit Card</td>\n",
       "      <td>2022-05-08</td>\n",
       "      <td>Kanyon</td>\n",
       "      <td>2022</td>\n",
       "      <td>May</td>\n",
       "      <td>7502.00</td>\n",
       "    </tr>\n",
       "    <tr>\n",
       "      <th>1</th>\n",
       "      <td>I317333</td>\n",
       "      <td>C111565</td>\n",
       "      <td>Male</td>\n",
       "      <td>21</td>\n",
       "      <td>Shoes</td>\n",
       "      <td>3</td>\n",
       "      <td>1800.51</td>\n",
       "      <td>Debit Card</td>\n",
       "      <td>2021-12-12</td>\n",
       "      <td>Forum Istanbul</td>\n",
       "      <td>2021</td>\n",
       "      <td>December</td>\n",
       "      <td>5401.53</td>\n",
       "    </tr>\n",
       "    <tr>\n",
       "      <th>2</th>\n",
       "      <td>I127801</td>\n",
       "      <td>C266599</td>\n",
       "      <td>Male</td>\n",
       "      <td>20</td>\n",
       "      <td>Clothing</td>\n",
       "      <td>1</td>\n",
       "      <td>300.08</td>\n",
       "      <td>Cash</td>\n",
       "      <td>2021-09-11</td>\n",
       "      <td>Metrocity</td>\n",
       "      <td>2021</td>\n",
       "      <td>September</td>\n",
       "      <td>300.08</td>\n",
       "    </tr>\n",
       "    <tr>\n",
       "      <th>3</th>\n",
       "      <td>I173702</td>\n",
       "      <td>C988172</td>\n",
       "      <td>Female</td>\n",
       "      <td>66</td>\n",
       "      <td>Shoes</td>\n",
       "      <td>5</td>\n",
       "      <td>3000.85</td>\n",
       "      <td>Credit Card</td>\n",
       "      <td>2021-05-16</td>\n",
       "      <td>Metropol AVM</td>\n",
       "      <td>2021</td>\n",
       "      <td>May</td>\n",
       "      <td>15004.25</td>\n",
       "    </tr>\n",
       "    <tr>\n",
       "      <th>4</th>\n",
       "      <td>I337046</td>\n",
       "      <td>C189076</td>\n",
       "      <td>Female</td>\n",
       "      <td>53</td>\n",
       "      <td>Books</td>\n",
       "      <td>4</td>\n",
       "      <td>60.60</td>\n",
       "      <td>Cash</td>\n",
       "      <td>2021-10-24</td>\n",
       "      <td>Kanyon</td>\n",
       "      <td>2021</td>\n",
       "      <td>October</td>\n",
       "      <td>242.40</td>\n",
       "    </tr>\n",
       "  </tbody>\n",
       "</table>\n",
       "</div>"
      ],
      "text/plain": [
       "  invoice_no customer_id  gender  age  category  quantity   price  \\\n",
       "0    I138884     C241288  Female   28  Clothing         5 1500.40   \n",
       "1    I317333     C111565    Male   21     Shoes         3 1800.51   \n",
       "2    I127801     C266599    Male   20  Clothing         1  300.08   \n",
       "3    I173702     C988172  Female   66     Shoes         5 3000.85   \n",
       "4    I337046     C189076  Female   53     Books         4   60.60   \n",
       "\n",
       "  payment_method invoice_date   shopping_mall  invoice_year invoice_month  \\\n",
       "0    Credit Card   2022-05-08          Kanyon          2022           May   \n",
       "1     Debit Card   2021-12-12  Forum Istanbul          2021      December   \n",
       "2           Cash   2021-09-11       Metrocity          2021     September   \n",
       "3    Credit Card   2021-05-16    Metropol AVM          2021           May   \n",
       "4           Cash   2021-10-24          Kanyon          2021       October   \n",
       "\n",
       "   total_revenue  \n",
       "0        7502.00  \n",
       "1        5401.53  \n",
       "2         300.08  \n",
       "3       15004.25  \n",
       "4         242.40  "
      ]
     },
     "execution_count": 3,
     "metadata": {},
     "output_type": "execute_result"
    }
   ],
   "source": [
    "# convert invoice date to datetime format\n",
    "data['invoice_date'] = pd.to_datetime(data['invoice_date'])\n",
    "\n",
    "# create year and month columns from invoice date\n",
    "data['invoice_year'] = data['invoice_date'].dt.year\n",
    "data['invoice_month'] = data['invoice_date'].dt.strftime('%B')\n",
    "\n",
    "# create total revenue column\n",
    "data['total_revenue'] = data['quantity'] * data['price']\n",
    "data.head()"
   ]
  },
  {
   "cell_type": "code",
   "execution_count": 4,
   "id": "6d241760",
   "metadata": {},
   "outputs": [],
   "source": [
    "# HELPER FUNCTIONS\n",
    "\n",
    "def format_revenue_with_thousand_separator(x):\n",
    "    \"\"\"\n",
    "        function to format the revenue values with thousand separators\n",
    "    \"\"\"\n",
    "    return \"${:,.2f}\".format(x)"
   ]
  },
  {
   "cell_type": "markdown",
   "id": "6d4b6f6a",
   "metadata": {},
   "source": [
    "## Data Overview"
   ]
  },
  {
   "cell_type": "code",
   "execution_count": 5,
   "id": "ce64bfa7",
   "metadata": {},
   "outputs": [
    {
     "data": {
      "text/html": [
       "<div>\n",
       "<style scoped>\n",
       "    .dataframe tbody tr th:only-of-type {\n",
       "        vertical-align: middle;\n",
       "    }\n",
       "\n",
       "    .dataframe tbody tr th {\n",
       "        vertical-align: top;\n",
       "    }\n",
       "\n",
       "    .dataframe thead th {\n",
       "        text-align: right;\n",
       "    }\n",
       "</style>\n",
       "<table border=\"1\" class=\"dataframe\">\n",
       "  <thead>\n",
       "    <tr style=\"text-align: right;\">\n",
       "      <th></th>\n",
       "      <th>ProductCategory</th>\n",
       "      <th>TotalCount</th>\n",
       "      <th>PercentCount</th>\n",
       "    </tr>\n",
       "  </thead>\n",
       "  <tbody>\n",
       "    <tr>\n",
       "      <th>0</th>\n",
       "      <td>Clothing</td>\n",
       "      <td>34487</td>\n",
       "      <td>34.68</td>\n",
       "    </tr>\n",
       "    <tr>\n",
       "      <th>1</th>\n",
       "      <td>Cosmetics</td>\n",
       "      <td>15097</td>\n",
       "      <td>15.18</td>\n",
       "    </tr>\n",
       "    <tr>\n",
       "      <th>2</th>\n",
       "      <td>Food &amp; Beverage</td>\n",
       "      <td>14776</td>\n",
       "      <td>14.86</td>\n",
       "    </tr>\n",
       "    <tr>\n",
       "      <th>3</th>\n",
       "      <td>Toys</td>\n",
       "      <td>10087</td>\n",
       "      <td>10.14</td>\n",
       "    </tr>\n",
       "    <tr>\n",
       "      <th>4</th>\n",
       "      <td>Shoes</td>\n",
       "      <td>10034</td>\n",
       "      <td>10.09</td>\n",
       "    </tr>\n",
       "    <tr>\n",
       "      <th>5</th>\n",
       "      <td>Souvenir</td>\n",
       "      <td>4999</td>\n",
       "      <td>5.03</td>\n",
       "    </tr>\n",
       "    <tr>\n",
       "      <th>6</th>\n",
       "      <td>Technology</td>\n",
       "      <td>4996</td>\n",
       "      <td>5.02</td>\n",
       "    </tr>\n",
       "    <tr>\n",
       "      <th>7</th>\n",
       "      <td>Books</td>\n",
       "      <td>4981</td>\n",
       "      <td>5.01</td>\n",
       "    </tr>\n",
       "  </tbody>\n",
       "</table>\n",
       "</div>"
      ],
      "text/plain": [
       "   ProductCategory TotalCount PercentCount\n",
       "0         Clothing      34487        34.68\n",
       "1        Cosmetics      15097        15.18\n",
       "2  Food & Beverage      14776        14.86\n",
       "3             Toys      10087        10.14\n",
       "4            Shoes      10034        10.09\n",
       "5         Souvenir       4999         5.03\n",
       "6       Technology       4996         5.02\n",
       "7            Books       4981         5.01"
      ]
     },
     "execution_count": 5,
     "metadata": {},
     "output_type": "execute_result"
    }
   ],
   "source": [
    "# Proportion of each product category\n",
    "product_category_data = pd.DataFrame(data['category'].value_counts().reset_index().values, \n",
    "                                     columns=['ProductCategory','TotalCount'])\n",
    "product_category_data['PercentCount'] = product_category_data['TotalCount'] / len(data) * 100\n",
    "product_category_data"
   ]
  },
  {
   "cell_type": "markdown",
   "id": "bc42fd50",
   "metadata": {},
   "source": [
    "## Product Sales Analysis"
   ]
  },
  {
   "cell_type": "markdown",
   "id": "12d23cd4",
   "metadata": {},
   "source": [
    "### 1. Which product category has the highest sales revenue?"
   ]
  },
  {
   "cell_type": "code",
   "execution_count": 6,
   "id": "7094fe48",
   "metadata": {},
   "outputs": [
    {
     "name": "stdout",
     "output_type": "stream",
     "text": [
      "The product category with the highest sales revenue is: Clothing - $113,996,791.04\n"
     ]
    }
   ],
   "source": [
    "# revenue by category\n",
    "revenue_by_category = data.groupby('category')['total_revenue'].sum()\n",
    "\n",
    "highest_revenue_category = revenue_by_category.idxmax()\n",
    "highest_revenue = revenue_by_category.max()\n",
    "\n",
    "print(f\"The product category with the highest sales revenue is: \\\n",
    "{highest_revenue_category} - ${highest_revenue:,.2f}\")"
   ]
  },
  {
   "cell_type": "markdown",
   "id": "e7fdc35d",
   "metadata": {},
   "source": [
    "### 2. Are there any categories that have experienced a decline in sales in the last 3 months?"
   ]
  },
  {
   "cell_type": "code",
   "execution_count": 7,
   "id": "82798704",
   "metadata": {},
   "outputs": [
    {
     "name": "stdout",
     "output_type": "stream",
     "text": [
      "Categories that have experienced a decline in sales in the last 3 months and their percentage decline:\n"
     ]
    },
    {
     "data": {
      "text/html": [
       "<div>\n",
       "<style scoped>\n",
       "    .dataframe tbody tr th:only-of-type {\n",
       "        vertical-align: middle;\n",
       "    }\n",
       "\n",
       "    .dataframe tbody tr th {\n",
       "        vertical-align: top;\n",
       "    }\n",
       "\n",
       "    .dataframe thead th {\n",
       "        text-align: right;\n",
       "    }\n",
       "</style>\n",
       "<table border=\"1\" class=\"dataframe\">\n",
       "  <thead>\n",
       "    <tr style=\"text-align: right;\">\n",
       "      <th></th>\n",
       "      <th>category</th>\n",
       "      <th>percentage_change</th>\n",
       "    </tr>\n",
       "  </thead>\n",
       "  <tbody>\n",
       "    <tr>\n",
       "      <th>2</th>\n",
       "      <td>Cosmetics</td>\n",
       "      <td>-57.31</td>\n",
       "    </tr>\n",
       "    <tr>\n",
       "      <th>0</th>\n",
       "      <td>Books</td>\n",
       "      <td>-41.56</td>\n",
       "    </tr>\n",
       "    <tr>\n",
       "      <th>3</th>\n",
       "      <td>Food &amp; Beverage</td>\n",
       "      <td>-40.06</td>\n",
       "    </tr>\n",
       "    <tr>\n",
       "      <th>7</th>\n",
       "      <td>Toys</td>\n",
       "      <td>-32.92</td>\n",
       "    </tr>\n",
       "    <tr>\n",
       "      <th>6</th>\n",
       "      <td>Technology</td>\n",
       "      <td>-28.62</td>\n",
       "    </tr>\n",
       "    <tr>\n",
       "      <th>4</th>\n",
       "      <td>Shoes</td>\n",
       "      <td>-25.48</td>\n",
       "    </tr>\n",
       "    <tr>\n",
       "      <th>1</th>\n",
       "      <td>Clothing</td>\n",
       "      <td>-22.85</td>\n",
       "    </tr>\n",
       "    <tr>\n",
       "      <th>5</th>\n",
       "      <td>Souvenir</td>\n",
       "      <td>-4.09</td>\n",
       "    </tr>\n",
       "  </tbody>\n",
       "</table>\n",
       "</div>"
      ],
      "text/plain": [
       "          category  percentage_change\n",
       "2        Cosmetics             -57.31\n",
       "0            Books             -41.56\n",
       "3  Food & Beverage             -40.06\n",
       "7             Toys             -32.92\n",
       "6       Technology             -28.62\n",
       "4            Shoes             -25.48\n",
       "1         Clothing             -22.85\n",
       "5         Souvenir              -4.09"
      ]
     },
     "execution_count": 7,
     "metadata": {},
     "output_type": "execute_result"
    }
   ],
   "source": [
    "# current three months and previous three months\n",
    "current_month = data['invoice_date'].max()\n",
    "previous_month_start = current_month - pd.DateOffset(months=3)\n",
    "previous_month_end = current_month - pd.DateOffset(months=1)\n",
    "\n",
    "current_month_data = data[(data['invoice_date'] >= previous_month_start) & \\\n",
    "                          (data['invoice_date'] <= previous_month_end)]\n",
    "\n",
    "previous_month_data = data[(data['invoice_date'] >= (previous_month_start - \\\n",
    "                        pd.DateOffset(months=3))) & (data['invoice_date'] <= \\\n",
    "                        (previous_month_end - pd.DateOffset(months=3)))]\n",
    "\n",
    "# total sales revenue for each category in both periods\n",
    "current_month_revenue = current_month_data.groupby('category')['total_revenue'].sum()\n",
    "previous_month_revenue = previous_month_data.groupby('category')['total_revenue'].sum()\n",
    "\n",
    "# decline in sales for each category\n",
    "sales_decline = (current_month_revenue - previous_month_revenue) / previous_month_revenue\n",
    "categories_with_decline = sales_decline[sales_decline < 0]\n",
    "\n",
    "# percentage decline\n",
    "categories_with_decline_percentage = categories_with_decline.apply(lambda x: x * 100)\n",
    "\n",
    "print(\"Categories that have experienced a decline in sales in the last 3 months and their percentage decline:\")\n",
    "\n",
    "categories_with_decline_percentage = categories_with_decline_percentage.reset_index()\n",
    "categories_with_decline_percentage.rename(columns={'total_revenue':'percentage_change'},\n",
    "                                         inplace=True)\n",
    "\n",
    "categories_with_decline_percentage = categories_with_decline_percentage.sort_values('percentage_change', \n",
    "                                                            ascending=True)\n",
    "categories_with_decline_percentage"
   ]
  },
  {
   "cell_type": "code",
   "execution_count": 8,
   "id": "91d0617a",
   "metadata": {},
   "outputs": [
    {
     "data": {
      "image/png": "[encoded data removed]",
      "text/plain": [
       "<Figure size 1200x500 with 1 Axes>"
      ]
     },
     "metadata": {},
     "output_type": "display_data"
    }
   ],
   "source": [
    "# Plot the percentage changes\n",
    "plt.figure(figsize=(12, 5))\n",
    "plt.bar(categories_with_decline_percentage['category'], categories_with_decline_percentage['percentage_change'], color='red')\n",
    "plt.xlabel('Product Category', color='blue',fontsize=12)\n",
    "plt.ylabel('Percentage Change',color='blue',fontsize=12)\n",
    "plt.title('Product Categories with Decline in Sales (Last 3 Months)',color='blue',fontsize=12)\n",
    "plt.xticks(rotation=45, ha='right')\n",
    "plt.tight_layout()\n",
    "plt.tick_params(axis='x', which='both', labelsize=9, labelcolor='blue')\n",
    "plt.tick_params(axis='y', which='both', labelsize=9, labelcolor='blue')\n",
    "plt.show()"
   ]
  },
  {
   "cell_type": "markdown",
   "id": "e0289b52",
   "metadata": {},
   "source": [
    "**Observation**:\n",
    "\n",
    "- All product categories experienced decline in the last 3 months.\n",
    "\n",
    "\n",
    "- Cosmetics category experienced the highest decline."
   ]
  },
  {
   "cell_type": "markdown",
   "id": "1f2782cd",
   "metadata": {},
   "source": [
    "### 3. What is the average price of products in the electronics category?"
   ]
  },
  {
   "cell_type": "code",
   "execution_count": 9,
   "id": "94682a3f",
   "metadata": {},
   "outputs": [
    {
     "name": "stdout",
     "output_type": "stream",
     "text": [
      "The average price of products in the toys category is: $107.73\n"
     ]
    }
   ],
   "source": [
    "# average price for electronics\n",
    "average_price_toys = data[data['category'] == 'Toys']['price'].mean()\n",
    "\n",
    "print(f\"The average price of products in the toys category is: ${average_price_toys:,.2f}\")\n"
   ]
  },
  {
   "cell_type": "markdown",
   "id": "0e549ad5",
   "metadata": {},
   "source": [
    "### 4. What is the category with most expensive products?"
   ]
  },
  {
   "cell_type": "code",
   "execution_count": 10,
   "id": "796f593e",
   "metadata": {},
   "outputs": [
    {
     "name": "stdout",
     "output_type": "stream",
     "text": [
      "The category with the most expensive products is: Technology - $3,156.94\n"
     ]
    }
   ],
   "source": [
    "# category average prices\n",
    "category_average_prices = data.groupby('category')['price'].mean()\n",
    "\n",
    "most_expensive_category = category_average_prices.idxmax()\n",
    "\n",
    "most_expensive_average_price = category_average_prices.max()\n",
    "\n",
    "print(f\"The category with the most expensive products is: {most_expensive_category} \\\n",
    "- ${most_expensive_average_price:,.2f}\")\n"
   ]
  },
  {
   "cell_type": "markdown",
   "id": "ed5d915a",
   "metadata": {},
   "source": [
    "### 5. How does the quantity sold in the clothing category compare to the shoes category?"
   ]
  },
  {
   "cell_type": "code",
   "execution_count": 11,
   "id": "c43f4517",
   "metadata": {},
   "outputs": [
    {
     "name": "stdout",
     "output_type": "stream",
     "text": [
      "Quantity sold in the clothing category: 103,558\n",
      "Quantity sold in the shoes category: 30,217\n",
      "Clothing category sold more.\n"
     ]
    }
   ],
   "source": [
    "# qunatity sold in each category\n",
    "clothing_quantity = data[data['category'] == 'Clothing']['quantity'].sum()\n",
    "shoes_quantity = data[data['category'] == 'Shoes']['quantity'].sum()\n",
    "\n",
    "print(f\"Quantity sold in the clothing category: {clothing_quantity:,}\")\n",
    "print(f\"Quantity sold in the shoes category: {shoes_quantity:,}\")\n",
    "\n",
    "if clothing_quantity > shoes_quantity:\n",
    "    print(\"Clothing category sold more.\")\n",
    "elif clothing_quantity < shoes_quantity:\n",
    "    print(\"Shoes category sold more.\")\n",
    "else:\n",
    "    print(\"Clothing and shoes categories sold the same quantity.\")\n"
   ]
  },
  {
   "cell_type": "markdown",
   "id": "365e6705",
   "metadata": {},
   "source": [
    "### 6. Can you identify the top three products in each category based on sales?"
   ]
  },
  {
   "cell_type": "code",
   "execution_count": 12,
   "id": "4eaf8383",
   "metadata": {},
   "outputs": [
    {
     "name": "stdout",
     "output_type": "stream",
     "text": [
      "Top three products in each category based on sales:\n",
      "\n",
      "     category    total_revenue\n",
      "1    Clothing  $113,996,791.04\n",
      "4       Shoes   $66,553,451.47\n",
      "6  Technology   $57,862,350.00\n"
     ]
    }
   ],
   "source": [
    "# top products on sales\n",
    "top_products_by_category = data.groupby('category')['total_revenue'].sum().reset_index()\n",
    "\n",
    "top_products = top_products_by_category.nlargest(3, 'total_revenue')\n",
    "\n",
    "top_products['total_revenue'] = top_products['total_revenue'].apply(format_revenue_with_thousand_separator)\n",
    "\n",
    "print(\"Top three products in each category based on sales:\\n\")\n",
    "print(top_products)"
   ]
  },
  {
   "cell_type": "markdown",
   "id": "68a56ba2",
   "metadata": {},
   "source": [
    "### 7. Is there a noticeable seasonal pattern in the sales of each category in 2022?"
   ]
  },
  {
   "cell_type": "code",
   "execution_count": null,
   "id": "8f5f2a0b",
   "metadata": {},
   "outputs": [],
   "source": [
    "# sales in 2022 based on category\n",
    "period_data = data[data['invoice_year']==2022]\n",
    "\n",
    "# month order\n",
    "month_order = ['January', 'February',\n",
    "    'March', 'April', 'May', 'June', 'July', 'August',\n",
    "    'September', 'October', 'November', 'December']\n",
    "\n",
    "period_data['invoice_month'] = pd.Categorical(period_data['invoice_month'], \n",
    "                                categories=month_order, ordered=True)\n",
    "\n",
    "category_monthly_sales = period_data.groupby(['category', 'invoice_year', 'invoice_month'])['total_revenue'].sum().reset_index()\n",
    "\n",
    "# line plots for each category\n",
    "categories = category_monthly_sales['category'].unique()\n",
    "\n",
    "for category in categories:\n",
    "    category_data = category_monthly_sales[category_monthly_sales['category'] == category]\n",
    "    plt.figure(figsize=(12, 5))\n",
    "    plt.plot(category_data['invoice_month'], category_data['total_revenue'], marker='o')\n",
    "    plt.title(f\"Monthly Sales Trend for {category} Category\", color='blue',fontsize=12)\n",
    "    plt.xlabel(\"Invoice Date\",color='blue',fontsize=12)\n",
    "    plt.ylabel(\"Total Revenue\",color='blue',fontsize=12)\n",
    "    plt.xticks(rotation=45)\n",
    "    plt.tight_layout()\n",
    "    plt.gca().yaxis.set_major_formatter(mticker.StrMethodFormatter('${x:,.0f}'))\n",
    "    plt.tick_params(axis='x', which='both', labelsize=9, labelcolor='blue')\n",
    "    plt.tick_params(axis='y', which='both', labelsize=9, labelcolor='blue')\n",
    "    plt.show()\n"
   ]
  },
  {
   "cell_type": "markdown",
   "id": "6caf1748",
   "metadata": {},
   "source": [
    "**Observation**: No observable trend in any products"
   ]
  },
  {
   "cell_type": "markdown",
   "id": "0bf4f6dc",
   "metadata": {},
   "source": [
    "### 8. Can you identify any categories that customers tend to buy together frequently?"
   ]
  },
  {
   "cell_type": "code",
   "execution_count": 14,
   "id": "c748efd2",
   "metadata": {},
   "outputs": [
    {
     "name": "stdout",
     "output_type": "stream",
     "text": [
      "Category Co-occurrence Matrix:\n"
     ]
    },
    {
     "data": {
      "text/html": [
       "<div>\n",
       "<style scoped>\n",
       "    .dataframe tbody tr th:only-of-type {\n",
       "        vertical-align: middle;\n",
       "    }\n",
       "\n",
       "    .dataframe tbody tr th {\n",
       "        vertical-align: top;\n",
       "    }\n",
       "\n",
       "    .dataframe thead th {\n",
       "        text-align: right;\n",
       "    }\n",
       "</style>\n",
       "<table border=\"1\" class=\"dataframe\">\n",
       "  <thead>\n",
       "    <tr style=\"text-align: right;\">\n",
       "      <th></th>\n",
       "      <th>Books</th>\n",
       "      <th>Clothing</th>\n",
       "      <th>Cosmetics</th>\n",
       "      <th>Food &amp; Beverage</th>\n",
       "      <th>Shoes</th>\n",
       "      <th>Souvenir</th>\n",
       "      <th>Technology</th>\n",
       "      <th>Toys</th>\n",
       "    </tr>\n",
       "  </thead>\n",
       "  <tbody>\n",
       "    <tr>\n",
       "      <th>Books</th>\n",
       "      <td>1.00</td>\n",
       "      <td>-0.17</td>\n",
       "      <td>-0.10</td>\n",
       "      <td>-0.10</td>\n",
       "      <td>-0.08</td>\n",
       "      <td>-0.05</td>\n",
       "      <td>-0.05</td>\n",
       "      <td>-0.08</td>\n",
       "    </tr>\n",
       "    <tr>\n",
       "      <th>Clothing</th>\n",
       "      <td>-0.17</td>\n",
       "      <td>1.00</td>\n",
       "      <td>-0.31</td>\n",
       "      <td>-0.30</td>\n",
       "      <td>-0.24</td>\n",
       "      <td>-0.17</td>\n",
       "      <td>-0.17</td>\n",
       "      <td>-0.24</td>\n",
       "    </tr>\n",
       "    <tr>\n",
       "      <th>Cosmetics</th>\n",
       "      <td>-0.10</td>\n",
       "      <td>-0.31</td>\n",
       "      <td>1.00</td>\n",
       "      <td>-0.18</td>\n",
       "      <td>-0.14</td>\n",
       "      <td>-0.10</td>\n",
       "      <td>-0.10</td>\n",
       "      <td>-0.14</td>\n",
       "    </tr>\n",
       "    <tr>\n",
       "      <th>Food &amp; Beverage</th>\n",
       "      <td>-0.10</td>\n",
       "      <td>-0.30</td>\n",
       "      <td>-0.18</td>\n",
       "      <td>1.00</td>\n",
       "      <td>-0.14</td>\n",
       "      <td>-0.10</td>\n",
       "      <td>-0.10</td>\n",
       "      <td>-0.14</td>\n",
       "    </tr>\n",
       "    <tr>\n",
       "      <th>Shoes</th>\n",
       "      <td>-0.08</td>\n",
       "      <td>-0.24</td>\n",
       "      <td>-0.14</td>\n",
       "      <td>-0.14</td>\n",
       "      <td>1.00</td>\n",
       "      <td>-0.08</td>\n",
       "      <td>-0.08</td>\n",
       "      <td>-0.11</td>\n",
       "    </tr>\n",
       "    <tr>\n",
       "      <th>Souvenir</th>\n",
       "      <td>-0.05</td>\n",
       "      <td>-0.17</td>\n",
       "      <td>-0.10</td>\n",
       "      <td>-0.10</td>\n",
       "      <td>-0.08</td>\n",
       "      <td>1.00</td>\n",
       "      <td>-0.05</td>\n",
       "      <td>-0.08</td>\n",
       "    </tr>\n",
       "    <tr>\n",
       "      <th>Technology</th>\n",
       "      <td>-0.05</td>\n",
       "      <td>-0.17</td>\n",
       "      <td>-0.10</td>\n",
       "      <td>-0.10</td>\n",
       "      <td>-0.08</td>\n",
       "      <td>-0.05</td>\n",
       "      <td>1.00</td>\n",
       "      <td>-0.08</td>\n",
       "    </tr>\n",
       "    <tr>\n",
       "      <th>Toys</th>\n",
       "      <td>-0.08</td>\n",
       "      <td>-0.24</td>\n",
       "      <td>-0.14</td>\n",
       "      <td>-0.14</td>\n",
       "      <td>-0.11</td>\n",
       "      <td>-0.08</td>\n",
       "      <td>-0.08</td>\n",
       "      <td>1.00</td>\n",
       "    </tr>\n",
       "  </tbody>\n",
       "</table>\n",
       "</div>"
      ],
      "text/plain": [
       "                 Books  Clothing  Cosmetics  Food & Beverage  Shoes  Souvenir  \\\n",
       "Books             1.00     -0.17      -0.10            -0.10  -0.08     -0.05   \n",
       "Clothing         -0.17      1.00      -0.31            -0.30  -0.24     -0.17   \n",
       "Cosmetics        -0.10     -0.31       1.00            -0.18  -0.14     -0.10   \n",
       "Food & Beverage  -0.10     -0.30      -0.18             1.00  -0.14     -0.10   \n",
       "Shoes            -0.08     -0.24      -0.14            -0.14   1.00     -0.08   \n",
       "Souvenir         -0.05     -0.17      -0.10            -0.10  -0.08      1.00   \n",
       "Technology       -0.05     -0.17      -0.10            -0.10  -0.08     -0.05   \n",
       "Toys             -0.08     -0.24      -0.14            -0.14  -0.11     -0.08   \n",
       "\n",
       "                 Technology  Toys  \n",
       "Books                 -0.05 -0.08  \n",
       "Clothing              -0.17 -0.24  \n",
       "Cosmetics             -0.10 -0.14  \n",
       "Food & Beverage       -0.10 -0.14  \n",
       "Shoes                 -0.08 -0.11  \n",
       "Souvenir              -0.05 -0.08  \n",
       "Technology             1.00 -0.08  \n",
       "Toys                  -0.08  1.00  "
      ]
     },
     "execution_count": 14,
     "metadata": {},
     "output_type": "execute_result"
    }
   ],
   "source": [
    "# Calculate the correlation matrix \n",
    "category_matrix = pd.get_dummies(data['category'])\n",
    "\n",
    "correlation_matrix = np.corrcoef(category_matrix, rowvar=False)\n",
    "\n",
    "category_correlation = pd.DataFrame(correlation_matrix, \n",
    "                            columns=category_matrix.columns, index=category_matrix.columns)\n",
    "print(\"Category Co-occurrence Matrix:\")\n",
    "category_correlation\n"
   ]
  },
  {
   "cell_type": "code",
   "execution_count": 15,
   "id": "fe496a17",
   "metadata": {},
   "outputs": [
    {
     "data": {
      "image/png": "[encoded data removed]",
      "text/plain": [
       "<Figure size 1200x800 with 2 Axes>"
      ]
     },
     "metadata": {},
     "output_type": "display_data"
    }
   ],
   "source": [
    "# plot the correlation matrix\n",
    "\n",
    "plt.figure(figsize=(12, 8))\n",
    "sns.heatmap(category_correlation, cmap='coolwarm', annot=True, fmt='.0f', linewidths=.5)\n",
    "\n",
    "plt.title(\"Covariance Matrix of Sales Performance between Product Categories in Different Shopping Malls\",\n",
    "         color='blue', fontsize=10)\n",
    "plt.xlabel(\"Product Category\",color='blue', fontsize=10)\n",
    "plt.ylabel(\"Product Category\",color='blue', fontsize=10)\n",
    "plt.xticks(rotation=45, ha='right')\n",
    "plt.tight_layout()\n",
    "\n",
    "plt.tick_params(axis='x', which='both', labelsize=9, labelcolor='blue')\n",
    "plt.tick_params(axis='y', which='both', labelsize=9, labelcolor='blue')\n",
    "plt.show()"
   ]
  },
  {
   "cell_type": "markdown",
   "id": "dbb514a8",
   "metadata": {},
   "source": [
    "**Observation**: No products go together. This is because, based on the data, there are no products from different categories that have been bought togther."
   ]
  },
  {
   "cell_type": "markdown",
   "id": "f0bed20b",
   "metadata": {},
   "source": [
    "### 9. Are there specific product categories that perform exceptionally well in certain shopping malls?"
   ]
  },
  {
   "cell_type": "code",
   "execution_count": 16,
   "id": "f31770af",
   "metadata": {},
   "outputs": [
    {
     "name": "stdout",
     "output_type": "stream",
     "text": [
      "Top-performing categories in each shopping mall:\n",
      "\n",
      "        shopping_mall  category   total_revenue\n",
      "1         Cevahir AVM  Clothing   $5,706,321.28\n",
      "9   Emaar Square Mall  Clothing   $5,590,490.40\n",
      "17     Forum Istanbul  Clothing   $5,792,444.24\n",
      "25       Istinye Park  Clothing  $11,253,900.24\n",
      "33             Kanyon  Clothing  $22,609,527.60\n",
      "41   Mall of Istanbul  Clothing  $22,947,417.68\n",
      "49          Metrocity  Clothing  $17,226,692.56\n",
      "57       Metropol AVM  Clothing  $11,568,084.00\n",
      "65     Viaport Outlet  Clothing   $5,604,594.16\n",
      "73       Zorlu Center  Clothing   $5,697,318.88\n"
     ]
    }
   ],
   "source": [
    "# total sales for each mall and category\n",
    "mall_category_sales = data.groupby(['shopping_mall', 'category'])['total_revenue'].sum().reset_index()\n",
    "\n",
    "# highest sales in each shopping mall\n",
    "top_category_in_mall = mall_category_sales.groupby('shopping_mall')['total_revenue'].idxmax()\n",
    "top_category_performance = mall_category_sales.loc[top_category_in_mall]\n",
    "\n",
    "top_category_performance['total_revenue'] = \\\n",
    "        top_category_performance['total_revenue'].apply(format_revenue_with_thousand_separator)\n",
    "\n",
    "print(\"Top-performing categories in each shopping mall:\\n\")\n",
    "print(top_category_performance)\n"
   ]
  },
  {
   "cell_type": "markdown",
   "id": "3719cd86",
   "metadata": {},
   "source": [
    "**Observation**: Clothing performs exceptionally well in all shopping malls"
   ]
  },
  {
   "cell_type": "code",
   "execution_count": null,
   "id": "f8c57ede",
   "metadata": {},
   "outputs": [],
   "source": []
  }
 ],
 "metadata": {
  "kernelspec": {
   "display_name": "Python 3 (ipykernel)",
   "language": "python",
   "name": "python3"
  },
  "language_info": {
   "codemirror_mode": {
    "name": "ipython",
    "version": 3
   },
   "file_extension": ".py",
   "mimetype": "text/x-python",
   "name": "python",
   "nbconvert_exporter": "python",
   "pygments_lexer": "ipython3",
   "version": "3.10.12"
  }
 },
 "nbformat": 4,
 "nbformat_minor": 5
}
